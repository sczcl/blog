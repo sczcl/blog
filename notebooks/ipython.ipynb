{
 "cells": [
  {
   "cell_type": "markdown",
   "metadata": {},
   "source": [
    "### 使用notebook的ipython文件直接发布方法\n",
    "我先看到[H2O主题](https://github.com/kaeyleo/jekyll-theme-H2O#%E7%AB%99%E7%82%B9%E4%BF%A1%E6%81%AF)，再通过上一篇文章搭建了本网站，但是不知道为什么，代码段高亮一直是很奇怪，让人很不舒服。并且找不到一款本地编辑器，能完美编辑md文件，所以我想到了之前使用的notebook以及产生的ipython文件，于是我搜索到了[jekyll-jupyter-notebook](https://github.com/red-data-tools/jekyll-jupyter-notebook)这个工具，经过折腾一早上，完成了ipython的使用\n",
    "#### 现在我们开始吧\n",
    "首先在搭建好的这个主题的情况下，我在`D:\\SoftWare\\Tools\\rubygems-2.7.7\\bundler\\lib\\bundler\\templates`里找到了`GemFile`文件，我根据指引添加了后面那一句。"
   ]
  },
  {
   "cell_type": "markdown",
   "metadata": {},
   "source": [
    "![tittle](first.png)"
   ]
  },
  {
   "cell_type": "markdown",
   "metadata": {},
   "source": [
    "然后进入命令行进入该目录，执行` bundle install`，然后将`_config.yml`文件最后一行插件那里改成这样"
   ]
  },
  {
   "cell_type": "code",
   "execution_count": null,
   "metadata": {},
   "outputs": [],
   "source": [
    "# Plugins\n",
    "plugins: [jekyll-paginate,jekyll-jupyter-notebook]"
   ]
  },
  {
   "cell_type": "markdown",
   "metadata": {},
   "source": [
    "配置好了，现在我们开始写文章，首先将写好的文章放到一个根目录，比如我放到`notebooks`文件夹，和`_posts`同一级，放进去，取名比如`ipython.ipython`，然后我们到`_posts`文件夹下面，新建一个md文件`2018-08-17-ipython.md`，在里面添加模板需要的头"
   ]
  },
  {
   "cell_type": "markdown",
   "metadata": {},
   "source": [
    "![tittle](postfile.png)"
   ]
  },
  {
   "cell_type": "markdown",
   "metadata": {},
   "source": [
    "然后我们就能开始愉快的开始服务啦~~\n",
    "PS:\n",
    "启动`jekyll serve`时候报错` invalid byte sequence in GBK`解决方法："
   ]
  },
  {
   "cell_type": "code",
   "execution_count": null,
   "metadata": {},
   "outputs": [],
   "source": [
    "ipython kernel install\n",
    "chcp.com 65001\n",
    "jekyll serve\n",
    "#到此，问题解决，这样你能看到这篇文章。"
   ]
  },
  {
   "cell_type": "code",
   "execution_count": null,
   "metadata": {},
   "outputs": [],
   "source": []
  },
  {
   "cell_type": "code",
   "execution_count": null,
   "metadata": {},
   "outputs": [],
   "source": []
  },
  {
   "cell_type": "code",
   "execution_count": null,
   "metadata": {},
   "outputs": [],
   "source": []
  },
  {
   "cell_type": "code",
   "execution_count": null,
   "metadata": {},
   "outputs": [],
   "source": []
  },
  {
   "cell_type": "code",
   "execution_count": null,
   "metadata": {},
   "outputs": [],
   "source": []
  },
  {
   "cell_type": "code",
   "execution_count": null,
   "metadata": {},
   "outputs": [],
   "source": []
  },
  {
   "cell_type": "code",
   "execution_count": null,
   "metadata": {},
   "outputs": [],
   "source": []
  },
  {
   "cell_type": "code",
   "execution_count": null,
   "metadata": {},
   "outputs": [],
   "source": []
  },
  {
   "cell_type": "code",
   "execution_count": null,
   "metadata": {},
   "outputs": [],
   "source": []
  },
  {
   "cell_type": "code",
   "execution_count": null,
   "metadata": {},
   "outputs": [],
   "source": []
  },
  {
   "cell_type": "code",
   "execution_count": null,
   "metadata": {},
   "outputs": [],
   "source": []
  },
  {
   "cell_type": "code",
   "execution_count": null,
   "metadata": {},
   "outputs": [],
   "source": []
  },
  {
   "cell_type": "code",
   "execution_count": null,
   "metadata": {},
   "outputs": [],
   "source": []
  },
  {
   "cell_type": "code",
   "execution_count": null,
   "metadata": {},
   "outputs": [],
   "source": []
  },
  {
   "cell_type": "code",
   "execution_count": null,
   "metadata": {},
   "outputs": [],
   "source": []
  },
  {
   "cell_type": "code",
   "execution_count": null,
   "metadata": {},
   "outputs": [],
   "source": []
  }
 ],
 "metadata": {
  "kernelspec": {
   "display_name": "Python 3",
   "language": "python",
   "name": "python3"
  },
  "language_info": {
   "codemirror_mode": {
    "name": "ipython",
    "version": 3
   },
   "file_extension": ".py",
   "mimetype": "text/x-python",
   "name": "python",
   "nbconvert_exporter": "python",
   "pygments_lexer": "ipython3",
   "version": "3.6.4"
  }
 },
 "nbformat": 4,
 "nbformat_minor": 2
}
