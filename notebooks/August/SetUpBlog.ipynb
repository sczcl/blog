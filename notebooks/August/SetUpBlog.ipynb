{
 "cells": [
  {
   "cell_type": "markdown",
   "metadata": {},
   "source": [
    "1. 安装nodejs\n",
    "下载[下载地址](https://nodejs.org/en/)下载后一路next，如果有`add to path`则点一下，安装完成后，使用 \n",
    "\t\tnode -v\n",
    "\t命令查看版本，出现版本信息则安装成功\n",
    "2. 安装hexo\n",
    "\t创建一个文件夹，进入目录，然后用git bash命令行，使用\n",
    "\t\tnpm install hexo-cli g\n",
    "\t\tnpm install -g hexo\n",
    "\t\t一直等待六七分钟后，提示完成。然后使用\t\n",
    "\t\t如果报错，则是被墙了，使用\n",
    "\t\tnpm config set registry=\"http://registry.cnpmjs.org\"\n",
    "\t\t然后再次执行npm install -g hexo，则能\n",
    "\t\thexo -v\n",
    "\t\t命令查看版本，出现版本则安装成功\n",
    "\t然后用`hexo init`，如果提示目录不是空的，清空后再运行就行。完成后会看到很多文件和文件夹，这就是大体目录了，其中\n",
    "\t\tnode_modules：是依赖包\n",
    "\t\tpublic：存放的是生成的页面\n",
    "\t\tscaffolds：命令生成文章等的模板\n",
    "\t\tsource：用命令创建的各种文章\n",
    "\t\tthemes：主题\n",
    "\t\t_config.yml：整个博客的配置\n",
    "\t\tdb.json：source解析所得到的\n",
    "\t\tpackage.json：项目所需模块项目的配置信息\n",
    "### 使用\n",
    "\n",
    "这两篇文章能搭建好，我就不复制了[gem安装](https://www.jianshu.com/p/9f71e260925d)\n",
    "还有这篇文章[kyll](https://github.com/kaeyleo/jekyll-theme-H2O)，接下来我会用这篇文章来讲述如何搭建ipython发布到jekyll的过程"
   ]
  }
 ],
 "metadata": {
  "kernelspec": {
   "display_name": "Python 3",
   "language": "python",
   "name": "python3"
  },
  "language_info": {
   "codemirror_mode": {
    "name": "ipython",
    "version": 3
   },
   "file_extension": ".py",
   "mimetype": "text/x-python",
   "name": "python",
   "nbconvert_exporter": "python",
   "pygments_lexer": "ipython3",
   "version": "3.6.4"
  }
 },
 "nbformat": 4,
 "nbformat_minor": 2
}
